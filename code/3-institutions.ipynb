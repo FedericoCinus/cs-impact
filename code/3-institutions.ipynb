{
 "cells": [
  {
   "cell_type": "code",
   "execution_count": 1,
   "metadata": {},
   "outputs": [],
   "source": [
    "import numpy as np\n",
    "import pandas as pd\n",
    "import polars as pl\n",
    "MAIN_PATH = \"../data\""
   ]
  },
  {
   "cell_type": "code",
   "execution_count": 2,
   "metadata": {},
   "outputs": [],
   "source": [
    "corpus = (\n",
    "    pl.read_parquet(f'{MAIN_PATH}/corpus-240306.parquet')\n",
    "    .filter(~pl.col('title').str.contains('(survey|benchmark|review|tutorial)'))\n",
    ")"
   ]
  },
  {
   "cell_type": "code",
   "execution_count": 3,
   "metadata": {},
   "outputs": [],
   "source": [
    "def get_pivot_table(df, column=None, variable=None):\n",
    "    metric = f'is_{column}_success'\n",
    "    df[metric] = df[f'{column}_success'] > 0\n",
    "    \n",
    "    # pivot table\n",
    "    inner_tables = []\n",
    "    for is_success, group in df.groupby(metric):\n",
    "        variable_values, freqs = np.unique(\n",
    "            np.concatenate(\n",
    "                group[variable.title()].apply(np.unique).values\n",
    "            ),\n",
    "            return_counts=True\n",
    "        )\n",
    "        inner_tables.append(\n",
    "            pd.DataFrame({\n",
    "                variable: variable_values,\n",
    "                'freq': freqs,\n",
    "                metric: is_success\n",
    "            })\n",
    "        )\n",
    "\n",
    "    pivoted_table = pd.concat(inner_tables).pivot_table(\n",
    "        index=variable,\n",
    "        columns=metric,\n",
    "        values='freq',\n",
    "        fill_value=0\n",
    "    )\n",
    "    return pivoted_table"
   ]
  },
  {
   "cell_type": "code",
   "execution_count": null,
   "metadata": {},
   "outputs": [],
   "source": [
    "fc_inst = (\n",
    "    pl.read_parquet(f'{MAIN_PATH}/papers_with_info_filtered5.parquet')\n",
    "    .unique('corpusid')\n",
    "    .filter(pl.col('venue_area').ne('Not-AI'))\n",
    "    .select('corpusid', 'venue_area', 'Institutions')\n",
    ")"
   ]
  },
  {
   "cell_type": "code",
   "execution_count": 6,
   "metadata": {},
   "outputs": [],
   "source": [
    "inst = pd.read_csv(f'{MAIN_PATH}/institutions-metadata.csv', names=[\n",
    "    'institutions_names',\n",
    "    'institutions_ids',\n",
    "    'institutions_ror',\n",
    "    'locations',\n",
    "    'doi',\n",
    "    'corpusid',\n",
    "])"
   ]
  },
  {
   "cell_type": "code",
   "execution_count": 7,
   "metadata": {},
   "outputs": [],
   "source": [
    "combined_inst = pl.concat([\n",
    "    (\n",
    "        fc_inst.join(corpus.select('corpusid', 'year_min_innovation', 'year_min_development'), how='left', on='corpusid')\n",
    "        .select('corpusid', 'year_min_innovation', 'year_min_development', 'venue_area', pl.col('Institutions').alias('institutions'))\n",
    "    ),\n",
    "    (\n",
    "        pl.from_dataframe(inst)\n",
    "        .with_columns(pl.col('corpusid').cast(int))\n",
    "        .join(\n",
    "            corpus,\n",
    "            how='inner',\n",
    "            on='corpusid'\n",
    "        )\n",
    "        .select('corpusid', 'year_min_innovation', 'year_min_development', 'venue_area', pl.col('institutions_names').map_elements(eval).alias('institutions'))\n",
    "    )\n",
    "])"
   ]
  },
  {
   "cell_type": "code",
   "execution_count": 8,
   "metadata": {},
   "outputs": [],
   "source": [
    "venue_map = {\n",
    "    'impactful': 'Top General Science',\n",
    "    'average': 'Computer Science',\n",
    "    'ai': 'AI',\n",
    "    'hci': 'HCI',\n",
    "    'linguistic': 'NLP',\n",
    "    'information': 'Database',\n",
    "    'mining': 'Data Mining',\n",
    "    'vision': 'Computer Vision',\n",
    "}"
   ]
  },
  {
   "cell_type": "code",
   "execution_count": null,
   "metadata": {},
   "outputs": [],
   "source": [
    "df = combined_inst.filter(pl.col('venue_area').is_in(['impactful', 'average']).not_()).to_pandas()\n",
    "\n",
    "df[\"is_innovation_success\"] = df[\"year_min_innovation\"].notnull()\n",
    "df[\"is_development_success\"] = df[\"year_min_development\"].notnull()\n",
    "df = df[['corpusid', 'venue_area', 'is_innovation_success', 'is_development_success', 'institutions']].explode('institutions')\n",
    "df = df.drop_duplicates(subset=['corpusid', 'institutions']).dropna(subset='institutions')\n",
    "df[\"is_either_success\"] = df[['is_innovation_success', 'is_development_success']].sum(axis=1).gt(0)\n",
    "df['venue_area'] = df['venue_area'].map(venue_map)\n",
    "\n",
    "df_agg = df.groupby(['institutions', 'venue_area']).agg({\n",
    "    'is_innovation_success': 'sum',\n",
    "    'is_development_success': 'sum',\n",
    "    'is_either_success': 'sum',\n",
    "    'corpusid': 'count',\n",
    "})"
   ]
  },
  {
   "cell_type": "code",
   "execution_count": 10,
   "metadata": {},
   "outputs": [
    {
     "data": {
      "text/plain": [
       "is_innovation_success      19028\n",
       "is_development_success     14004\n",
       "is_either_success          31924\n",
       "corpusid                  242970\n",
       "dtype: int64"
      ]
     },
     "execution_count": 10,
     "metadata": {},
     "output_type": "execute_result"
    }
   ],
   "source": [
    "df_agg.sum(axis=0)"
   ]
  },
  {
   "cell_type": "code",
   "execution_count": null,
   "metadata": {},
   "outputs": [],
   "source": [
    "from scipy.stats import beta\n",
    "\n",
    "df_agg['impact_innovation'] = beta(2 + df_agg['is_innovation_success'], 23 + df_agg['corpusid'] - df_agg['is_innovation_success']).ppf(0.05)\n",
    "df_agg['impact_development'] = beta(2 + df_agg['is_development_success'], 23 + df_agg['corpusid'] - df_agg['is_development_success']).ppf(0.05)"
   ]
  },
  {
   "cell_type": "code",
   "execution_count": 12,
   "metadata": {},
   "outputs": [],
   "source": [
    "nb_papers = df_agg.reset_index().groupby('institutions').corpusid.sum()\n",
    "top_institutions = nb_papers.nlargest(50).index.tolist()"
   ]
  },
  {
   "cell_type": "code",
   "execution_count": 14,
   "metadata": {},
   "outputs": [],
   "source": [
    "impacts = df_agg.reset_index().pivot_table(\n",
    "    index='institutions',\n",
    "    columns='venue_area',\n",
    "    values=['impact_innovation', 'impact_development']\n",
    ").loc[top_institutions]"
   ]
  },
  {
   "cell_type": "code",
   "execution_count": 15,
   "metadata": {},
   "outputs": [],
   "source": [
    "top25 = df_agg.reset_index().groupby('institutions').agg({\n",
    "    'impact_innovation': 'sum',\n",
    "    'impact_development': 'sum'\n",
    "}).sum(axis=1).divide(12)[top_institutions].nlargest(25).reset_index()\n",
    "\n",
    "top25.columns = ['institutions', 'avg_impact']"
   ]
  },
  {
   "cell_type": "markdown",
   "metadata": {},
   "source": [
    "## Table 3"
   ]
  },
  {
   "cell_type": "code",
   "execution_count": 16,
   "metadata": {},
   "outputs": [
    {
     "name": "stdout",
     "output_type": "stream",
     "text": [
      "\\begin{tabular}{lr}\n",
      " & avg_impact \\\\\n",
      "institutions &  \\\\\n",
      "Google (United States) & 12.6% \\\\\n",
      "Microsoft (United States) & 11.8% \\\\\n",
      "Stanford University & 11.4% \\\\\n",
      "Microsoft Research Asia (China) & 10.9% \\\\\n",
      "Massachusetts Institute of Technology & 10.8% \\\\\n",
      "Carnegie Mellon University & 10.7% \\\\\n",
      "University of California, Berkeley & 10.1% \\\\\n",
      "Cornell University & 9.0% \\\\\n",
      "ETH Zurich & 9.0% \\\\\n",
      "Microsoft Research (United Kingdom) & 8.8% \\\\\n",
      "University of Washington & 8.7% \\\\\n",
      "University of Illinois Urbana-Champaign & 8.5% \\\\\n",
      "Georgia Institute of Technology & 8.3% \\\\\n",
      "Tencent (China) & 7.9% \\\\\n",
      "IBM (United States) & 7.9% \\\\\n",
      "University of Massachusetts Amherst & 7.6% \\\\\n",
      "Chinese University of Hong Kong & 7.6% \\\\\n",
      "University of Michigan–Ann Arbor & 7.2% \\\\\n",
      "Tsinghua University & 7.2% \\\\\n",
      "Alibaba Group (China) & 6.8% \\\\\n",
      "University of Maryland, College Park & 6.8% \\\\\n",
      "Fudan University & 6.7% \\\\\n",
      "Shanghai Jiao Tong University & 6.5% \\\\\n",
      "University of Science and Technology of China & 6.5% \\\\\n",
      "Zhejiang University & 6.4% \\\\\n",
      "\\end{tabular}\n",
      "\n"
     ]
    }
   ],
   "source": [
    "print(top25.set_index('institutions').style.format('{:.1%}').to_latex())"
   ]
  },
  {
   "cell_type": "code",
   "execution_count": 34,
   "metadata": {},
   "outputs": [
    {
     "name": "stdout",
     "output_type": "stream",
     "text": [
      "\\begin{tabular}{lrrrrrrrrrrrrr}\n",
      " & avg_impact & ('impact_innovation', 'AI') & ('impact_innovation', 'Computer Vision') & ('impact_innovation', 'Data Mining') & ('impact_innovation', 'Database') & ('impact_innovation', 'HCI') & ('impact_innovation', 'NLP') & ('impact_development', 'AI') & ('impact_development', 'Computer Vision') & ('impact_development', 'Data Mining') & ('impact_development', 'Database') & ('impact_development', 'HCI') & ('impact_development', 'NLP') \\\\\n",
      "institutions &  &  &  &  &  &  &  &  &  &  &  &  &  \\\\\n",
      "Google (United States) & \\bfseries 12.6% & 5.7% & 15.7% & 11.9% & 14.9% & 8.6% & 9.5% & 12.3% & \\bfseries 36.7% & 6.8% & 2.9% & 0.9% & 25.1% \\\\\n",
      "Microsoft (United States) & 11.8% & 7.2% & 24.9% & 15.7% & 18.5% & \\bfseries 19.6% & 17.8% & 2.3% & 12.6% & 5.2% & 2.3% & 0.3% & 15.4% \\\\\n",
      "Stanford University & 11.4% & \\bfseries 8.7% & 23.9% & 14.6% & 16.6% & 7.8% & 15.5% & 12.3% & 13.4% & 11.9% & 3.5% & 0.7% & 8.1% \\\\\n",
      "Microsoft Research Asia (China) & 10.9% & 8.3% & 22.8% & 12.3% & 14.3% & 9.4% & \\bfseries 22.1% & 12.0% & 14.6% & 7.1% & 4.6% & \\bfseries 2.4% & 0.5% \\\\\n",
      "Massachusetts Institute of Technology & 10.8% & 7.0% & 29.1% & 7.8% & 9.1% & 10.8% & 15.5% & 9.1% & 12.3% & 9.8% & 6.1% & 2.1% & 11.0% \\\\\n",
      "Carnegie Mellon University & 10.7% & 5.8% & 24.4% & 14.6% & 15.8% & 9.0% & 14.1% & 8.1% & 14.2% & 4.3% & 3.5% & 0.3% & 14.1% \\\\\n",
      "University of California, Berkeley & 10.1% & 3.6% & 23.5% & 16.0% & 18.4% & 9.1% & 15.2% & 8.3% & 15.7% & 3.9% & 1.9% & 0.5% & 5.5% \\\\\n",
      "Cornell University & 9.0% & 5.8% & 17.5% & 10.7% & 13.8% & 3.0% & 12.9% & 5.8% & 13.3% & 13.2% & 4.3% & 0.2% & 7.5% \\\\\n",
      "ETH Zurich & 9.0% & 5.0% & 13.7% & 2.5% & 14.3% & 4.9% & 0.8% & 14.2% & 22.9% & 4.2% & 3.6% & 0.7% & 20.9% \\\\\n",
      "Microsoft Research (United Kingdom) & 8.8% & 6.6% & \\bfseries 31.5% & 4.9% & \\bfseries 19.8% & 7.0% & 11.7% & 11.3% & 6.2% & 1.2% & 2.0% & 0.2% & 3.3% \\\\\n",
      "University of Washington & 8.7% & 8.4% & 13.6% & 11.1% & 12.3% & 7.6% & 12.1% & 5.9% & 12.3% & 3.1% & 3.5% & 0.5% & 14.5% \\\\\n",
      "University of Illinois Urbana-Champaign & 8.5% & 3.7% & 22.4% & 11.8% & 11.0% & 4.8% & 8.3% & 9.2% & 8.1% & 7.7% & 6.1% & 0.2% & 8.3% \\\\\n",
      "Georgia Institute of Technology & 8.3% & 4.0% & 14.1% & 11.7% & 8.7% & 6.1% & 4.5% & 7.8% & 12.1% & 5.9% & 5.1% & 0.1% & 19.9% \\\\\n",
      "Tencent (China) & 7.9% & 1.7% & 1.1% & 0.3% & 2.4% & 1.0% & 1.4% & \\bfseries 15.7% & 23.8% & 13.2% & 14.4% & 1.0% & 18.5% \\\\\n",
      "IBM (United States) & 7.9% & 5.5% & 4.8% & \\bfseries 17.8% & 13.5% & 8.9% & 4.7% & 8.2% & 8.1% & 4.8% & 1.5% & 0.5% & 16.0% \\\\\n",
      "University of Massachusetts Amherst & 7.6% & 7.2% & 18.6% & 12.4% & 14.5% & 1.5% & 13.8% & 4.1% & 4.2% & 6.1% & 4.2% & 1.5% & 3.5% \\\\\n",
      "Chinese University of Hong Kong & 7.6% & 7.0% & 12.5% & 6.5% & 5.6% & 1.6% & 3.0% & 8.9% & 21.0% & 4.0% & 3.2% & 0.7% & 17.1% \\\\\n",
      "University of Michigan–Ann Arbor & 7.2% & 2.2% & 13.7% & 13.6% & 12.9% & 2.2% & 5.4% & 5.9% & 10.1% & 5.1% & 4.2% & 0.2% & 11.6% \\\\\n",
      "Tsinghua University & 7.2% & 4.0% & 7.4% & 4.7% & 4.8% & 2.2% & 4.6% & 8.1% & 15.0% & 8.0% & 8.0% & 0.3% & 19.6% \\\\\n",
      "Alibaba Group (China) & 6.8% & 0.9% & 1.1% & 3.6% & 2.0% & 0.9% & 1.4% & 5.0% & 12.0% & \\bfseries 19.3% & \\bfseries 15.3% & 0.9% & 19.6% \\\\\n",
      "University of Maryland, College Park & 6.8% & 3.4% & 12.4% & 12.3% & 12.4% & 8.7% & 15.7% & 7.8% & 4.1% & 0.8% & 0.3% & 0.2% & 4.1% \\\\\n",
      "Fudan University & 6.7% & 2.1% & 3.4% & 2.7% & 4.3% & 0.6% & 6.2% & 9.6% & 12.1% & 7.3% & 4.3% & 1.4% & \\bfseries 26.1% \\\\\n",
      "Shanghai Jiao Tong University & 6.5% & 4.8% & 3.5% & 4.2% & 5.3% & 1.9% & 4.3% & 7.1% & 14.7% & 11.1% & 9.1% & 1.1% & 11.6% \\\\\n",
      "University of Science and Technology of China & 6.5% & 2.5% & 5.7% & 4.9% & 4.3% & 0.7% & 5.8% & 8.0% & 20.4% & 9.0% & 11.8% & 0.7% & 4.0% \\\\\n",
      "Zhejiang University & 6.4% & 2.7% & 3.9% & 4.7% & 4.8% & 1.6% & 0.8% & 9.1% & 14.3% & 8.4% & 8.1% & 0.7% & 18.4% \\\\\n",
      "\\end{tabular}\n",
      "\n"
     ]
    }
   ],
   "source": [
    "print(\n",
    "    pd.concat([\n",
    "        top25.set_index('institutions'),\n",
    "        impacts.loc[top25.institutions, ['impact_innovation', 'impact_development']]\n",
    "    ], axis=1)\n",
    "    .style.format('{:.1%}')\n",
    "    .highlight_max(axis=0, props='font-weight:bold;')\n",
    "    .to_latex(convert_css=True)\n",
    ")"
   ]
  }
 ],
 "metadata": {
  "kernelspec": {
   "display_name": "csimpact",
   "language": "python",
   "name": "python3"
  },
  "language_info": {
   "codemirror_mode": {
    "name": "ipython",
    "version": 3
   },
   "file_extension": ".py",
   "mimetype": "text/x-python",
   "name": "python",
   "nbconvert_exporter": "python",
   "pygments_lexer": "ipython3",
   "version": "3.11.13"
  }
 },
 "nbformat": 4,
 "nbformat_minor": 2
}
